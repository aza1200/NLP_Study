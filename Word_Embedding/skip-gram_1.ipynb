{
 "cells": [
  {
   "cell_type": "code",
   "execution_count": 1,
   "metadata": {},
   "outputs": [],
   "source": [
    "# skip-gram 은 직접 구현해볼까.... ㅎ \n",
    "\n",
    "# negative sampling \n",
    "# embedding layer 참조\n",
    "\n",
    "# 참조링크\n",
    "# https://reniew.github.io/22/\n",
    "# https://towardsdatascience.com/implementing-word2vec-in-pytorch-skip-gram-model-e6bae040d2fb\n",
    "# https://towardsdatascience.com/skip-gram-nlp-context-words-prediction-algorithm-5bbf34f84e0c\n"
   ]
  },
  {
   "cell_type": "code",
   "execution_count": 2,
   "metadata": {},
   "outputs": [
    {
     "name": "stdout",
     "output_type": "stream",
     "text": [
      "[['he', 'is', 'a', 'king'], ['she', 'is', 'a', 'queen'], ['he', 'is', 'a', 'man'], ['she', 'is', 'a', 'woman'], ['warsaw', 'is', 'poland', 'capital'], ['berlin', 'is', 'germany', 'capital'], ['paris', 'is', 'france', 'capital']]\n"
     ]
    }
   ],
   "source": [
    "corpus = [\n",
    "    'he is a king',\n",
    "    'she is a queen',\n",
    "    'he is a man',\n",
    "    'she is a woman',\n",
    "    'warsaw is poland capital',\n",
    "    'berlin is germany capital',\n",
    "    'paris is france capital',\n",
    "]\n",
    "\n",
    "def tokenize_corpus(corpus):\n",
    "    tokens = [x.split() for x in corpus]\n",
    "    return tokens\n",
    "\n",
    "tokenized_corpus = tokenize_corpus(corpus)\n",
    "print(tokenized_corpus)"
   ]
  },
  {
   "cell_type": "code",
   "execution_count": 6,
   "metadata": {},
   "outputs": [
    {
     "name": "stdout",
     "output_type": "stream",
     "text": [
      "{0: 'he',\n",
      " 1: 'is',\n",
      " 2: 'a',\n",
      " 3: 'king',\n",
      " 4: 'she',\n",
      " 5: 'queen',\n",
      " 6: 'man',\n",
      " 7: 'woman',\n",
      " 8: 'warsaw',\n",
      " 9: 'poland',\n",
      " 10: 'capital',\n",
      " 11: 'berlin',\n",
      " 12: 'germany',\n",
      " 13: 'paris',\n",
      " 14: 'france'}\n"
     ]
    }
   ],
   "source": [
    "import pprint\n",
    "vocabulary = []\n",
    "for sentence in tokenized_corpus:\n",
    "    for token in sentence:\n",
    "        if token not in vocabulary:\n",
    "            vocabulary.append(token)\n",
    "\n",
    "word2idx = {w: idx for (idx, w) in enumerate(vocabulary)}\n",
    "idx2word = {idx: w for (idx, w) in enumerate(vocabulary)}\n",
    "\n",
    "vocabulary_size = len(vocabulary)\n",
    "pprint.pprint(idx2word)\n",
    "# print(idx2word)"
   ]
  },
  {
   "cell_type": "code",
   "execution_count": 11,
   "metadata": {},
   "outputs": [
    {
     "name": "stdout",
     "output_type": "stream",
     "text": [
      "tensor([[0, 1],\n",
      "        [0, 2],\n",
      "        [1, 0],\n",
      "        [1, 2],\n",
      "        [1, 3]])\n"
     ]
    }
   ],
   "source": [
    "import torch\n",
    "\n",
    "window_size = 2\n",
    "idx_pairs = []\n",
    "# for each sentence\n",
    "for sentence in tokenized_corpus:\n",
    "    indices = [word2idx[word] for word in sentence]\n",
    "    # for each word, threated as center word\n",
    "    for center_word_pos in range(len(indices)):\n",
    "        # for each window position\n",
    "        for w in range(-window_size, window_size + 1):\n",
    "            context_word_pos = center_word_pos + w\n",
    "            # make soure not jump out sentence\n",
    "            if context_word_pos < 0 or context_word_pos >= len(indices) or center_word_pos == context_word_pos:\n",
    "                continue\n",
    "            context_word_idx = indices[context_word_pos]\n",
    "            idx_pairs.append((indices[center_word_pos], context_word_idx))\n",
    "\n",
    "idx_pairs = torch.Tensor(idx_pairs).long() # it will be useful to have this as numpy array\n",
    "\n",
    "print(idx_pairs[:5])"
   ]
  },
  {
   "cell_type": "code",
   "execution_count": 31,
   "metadata": {},
   "outputs": [
    {
     "name": "stdout",
     "output_type": "stream",
     "text": [
      "torch.Size([5, 15])\n",
      "<class 'torch.Tensor'>\n",
      "15\n",
      "torch.Size([1, 15])\n",
      "torch.Size([1])\n",
      "tensor(9.6182, grad_fn=<NllLossBackward0>)\n"
     ]
    }
   ],
   "source": [
    "import torch.nn.functional as F\n",
    "\n",
    "def get_input_layer(word_idx):\n",
    "    x = torch.zeros(vocabulary_size).float()\n",
    "    x[word_idx] = 1.0\n",
    "    return x\n",
    "\n",
    "embedding_dims = 5\n",
    "W1 = torch.randn(embedding_dims, vocabulary_size).float().requires_grad_()\n",
    "W2 = torch.randn(vocabulary_size, embedding_dims).float().requires_grad_()\n",
    "\n",
    "print(W1.shape)\n",
    "print(type(W1))\n",
    "\n",
    "print(vocabulary_size)\n",
    "\n",
    "x = get_input_layer(3)\n",
    "z1 = torch.matmul(W1, x)\n",
    "z2 = torch.matmul(W2, z1)\n",
    "\n",
    "log_softmax = F.log_softmax(z2, dim=0).view(1,-1)\n",
    "y_true = torch.Tensor([3]).long()\n",
    "\n",
    "print(log_softmax.shape)\n",
    "print(y_true.shape)\n",
    "loss = F.nll_loss(log_softmax.view(1,-1), y_true)\n",
    "\n",
    "print(loss)"
   ]
  },
  {
   "cell_type": "code",
   "execution_count": 44,
   "metadata": {},
   "outputs": [
    {
     "name": "stdout",
     "output_type": "stream",
     "text": [
      "Loss at epo 0: 2.7080401863370622\n",
      "Loss at epo 10: 2.708040128435407\n",
      "Loss at epo 20: 2.7080401522772655\n",
      "Loss at epo 30: 2.708040087563651\n",
      "Loss at epo 40: 2.7080400705337526\n",
      "Loss at epo 50: 2.708040053503854\n",
      "Loss at epo 60: 2.708040005820138\n",
      "Loss at epo 70: 2.708039951324463\n",
      "Loss at epo 80: 2.708039947918483\n",
      "Loss at epo 90: 2.7080399206706454\n"
     ]
    }
   ],
   "source": [
    "num_epochs = 100\n",
    "learning_rate = 0.001\n",
    "\n",
    "for epo in range(num_epochs):\n",
    "    loss_val = 0\n",
    "    for data, target in idx_pairs:\n",
    "        x = get_input_layer(data).float().requires_grad_()\n",
    "        y_true = torch.Tensor([target]).long()\n",
    "\n",
    "        z1 = torch.matmul(W1, x)\n",
    "        z2 = torch.matmul(W2, z1)\n",
    "    \n",
    "        log_softmax = F.log_softmax(z2, dim=0)\n",
    "\n",
    "        loss = F.nll_loss(log_softmax.view(1,-1), y_true)\n",
    "        loss_val += loss.item()\n",
    "        \n",
    "        loss.backward()\n",
    "        W1.data = learning_rate * W1.grad.data\n",
    "        W2.data -= learning_rate * W2.grad.data\n",
    "\n",
    "        W1.grad.data.zero_()\n",
    "        W2.grad.data.zero_()\n",
    "    if epo % 10 == 0:    \n",
    "        print(f'Loss at epo {epo}: {loss_val/len(idx_pairs)}')"
   ]
  },
  {
   "cell_type": "code",
   "execution_count": null,
   "metadata": {},
   "outputs": [],
   "source": []
  }
 ],
 "metadata": {
  "kernelspec": {
   "display_name": "Python 3.9.13 ('base')",
   "language": "python",
   "name": "python3"
  },
  "language_info": {
   "codemirror_mode": {
    "name": "ipython",
    "version": 3
   },
   "file_extension": ".py",
   "mimetype": "text/x-python",
   "name": "python",
   "nbconvert_exporter": "python",
   "pygments_lexer": "ipython3",
   "version": "3.9.13"
  },
  "orig_nbformat": 4,
  "vscode": {
   "interpreter": {
    "hash": "ad2bdc8ecc057115af97d19610ffacc2b4e99fae6737bb82f5d7fb13d2f2c186"
   }
  }
 },
 "nbformat": 4,
 "nbformat_minor": 2
}
