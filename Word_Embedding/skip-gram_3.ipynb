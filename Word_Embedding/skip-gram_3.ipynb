{
 "cells": [
  {
   "cell_type": "code",
   "execution_count": null,
   "metadata": {},
   "outputs": [],
   "source": [
    "# 참고링크 : https://techblog-history-younghunjo1.tistory.com/434\n",
    "# skip-gram 문제점 해결 적용한것 구현\n",
    "\n",
    "# 1. 병목현상 -> Embedding Layer 활용 \n",
    "# 2. Softmax 계산 귀찮 -> Negative Sampling \n",
    "# 3. subsampling"
   ]
  }
 ],
 "metadata": {
  "language_info": {
   "name": "python"
  },
  "orig_nbformat": 4
 },
 "nbformat": 4,
 "nbformat_minor": 2
}
